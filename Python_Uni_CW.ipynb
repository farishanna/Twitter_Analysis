{
 "cells": [
  {
   "cell_type": "markdown",
   "id": "2069ac7b",
   "metadata": {},
   "source": [
    "# Python Coursework \n",
    "<hr style=\"border:2px solid black\"> </hr>"
   ]
  },
  {
   "cell_type": "markdown",
   "id": "cc947c27",
   "metadata": {},
   "source": [
    "## Task 1 – Data Gathering and Pre-processing\n",
    "<hr style=\"border:2px solid black\"> </hr>\n",
    "\n",
    "\n",
    "*****Implement a process/workflow to extract information from Twitter*****\n",
    "\n",
    "\n",
    "### Steps of the process: \n",
    "1. API connection\n",
    "2. Data extraction from the data source and data pre-processing from the data source to transform the original data into a pandas dataframe.\n",
    "3. Perform a data cleansing activity considered relevant for the process (if any).\n",
    "4. Provide the explanation of the process, the justification behind it, lessons learned and findings. "
   ]
  },
  {
   "cell_type": "markdown",
   "id": "76013efa",
   "metadata": {},
   "source": [
    "***Importing Libraries***"
   ]
  },
  {
   "cell_type": "code",
   "execution_count": 1,
   "id": "9d2b2dbc",
   "metadata": {},
   "outputs": [],
   "source": [
    "import tweepy\n",
    "import numpy as np\n",
    "import pandas as pd\n",
    "\n",
    "import seaborn as sns\n",
    "%matplotlib inline\n",
    "import matplotlib.pyplot as plt\n",
    "\n",
    "import networkx as nx\n",
    "\n",
    "import warnings\n",
    "warnings.filterwarnings('ignore')\n",
    "import random"
   ]
  },
  {
   "cell_type": "markdown",
   "id": "d221e8e1",
   "metadata": {},
   "source": [
    "### 1. API connection "
   ]
  },
  {
   "cell_type": "code",
   "execution_count": 2,
   "id": "fe54cb40",
   "metadata": {},
   "outputs": [
    {
     "name": "stdout",
     "output_type": "stream",
     "text": [
      "Twitter\n",
      "60588271\n"
     ]
    }
   ],
   "source": [
    "# API Connection\n",
    "\n",
    "# API keys for Authorization\n",
    "api_key = ''\n",
    "api_secret_key = ''\n",
    "access_token = ''\n",
    "access_token_secret = ''\n",
    "\n",
    "# Creating API Connection \n",
    "auth = tweepy.OAuthHandler(api_key, api_secret_key)\n",
    "auth.set_access_token(access_token, access_token_secret)\n",
    "api = tweepy.API(auth, wait_on_rate_limit=True)\n",
    "\n",
    "# Get user\n",
    "user = api.get_user(screen_name='twitter')\n",
    "\n",
    "# Print user name and their followers count for testing\n",
    "print(user.screen_name) \n",
    "print(user.followers_count)\n",
    "\n",
    "# Run to test"
   ]
  },
  {
   "cell_type": "markdown",
   "id": "2040636a",
   "metadata": {},
   "source": [
    "### 2. Data extraction from the data source and data pre-processing from the data source to transform the original data into a pandas dataframe."
   ]
  },
  {
   "cell_type": "markdown",
   "id": "a2ddd4ca",
   "metadata": {},
   "source": [
    "Firstly, what data should be analyzed?"
   ]
  },
  {
   "cell_type": "code",
   "execution_count": 3,
   "id": "532dc840",
   "metadata": {},
   "outputs": [
    {
     "name": "stdout",
     "output_type": "stream",
     "text": [
      "['__class__', '__delattr__', '__dict__', '__dir__', '__doc__', '__eq__', '__format__', '__ge__', '__getattribute__', '__getstate__', '__gt__', '__hash__', '__init__', '__init_subclass__', '__le__', '__lt__', '__module__', '__ne__', '__new__', '__reduce__', '__reduce_ex__', '__repr__', '__setattr__', '__sizeof__', '__slots__', '__str__', '__subclasshook__', '__weakref__', '_api', '_json', 'author', 'contributors', 'coordinates', 'created_at', 'destroy', 'entities', 'favorite', 'favorite_count', 'favorited', 'geo', 'id', 'id_str', 'in_reply_to_screen_name', 'in_reply_to_status_id', 'in_reply_to_status_id_str', 'in_reply_to_user_id', 'in_reply_to_user_id_str', 'is_quote_status', 'lang', 'parse', 'parse_list', 'place', 'retweet', 'retweet_count', 'retweeted', 'retweets', 'source', 'source_url', 'text', 'truncated', 'user']\n"
     ]
    }
   ],
   "source": [
    "# Creates a cursor for extracting items in a users timeline\n",
    "cursor = tweepy.Cursor(api.user_timeline, screen_name='elonmusk').items(1)\n",
    "\n",
    "# Get all the attributes of the users timeline by extracting the directories of the cursor \n",
    "for x in cursor:\n",
    "    print(dir(x))"
   ]
  },
  {
   "cell_type": "markdown",
   "id": "34fb6a16",
   "metadata": {},
   "source": [
    "**The best attributes to analyze are:**\n",
    "\n",
    "    1. created_at\n",
    "    2. favorite_count\n",
    "    3. retweet_count\n",
    "    4. full_text"
   ]
  },
  {
   "cell_type": "code",
   "execution_count": 4,
   "id": "5c52d2ca",
   "metadata": {},
   "outputs": [],
   "source": [
    "\"\"\"\n",
    "Creates a function that extracts the data of a twitter user (input), then puts the needed attributes into lists, \n",
    "then creates a pandas dataframe of the last 300 tweets using the lists.\n",
    "\"\"\"\n",
    "def process_data(user):\n",
    "    # Initialize empty lists for the attributes\n",
    "    created_at = []\n",
    "    favorite_count = []\n",
    "    retweet_count = []\n",
    "    full_text = []\n",
    "    \n",
    "    # Cursor to extract data\n",
    "    cursor = tweepy.Cursor(api.user_timeline, screen_name=user, count=300).items()\n",
    "\n",
    "    # Append data to the lists from the cursor created\n",
    "    for x in cursor:\n",
    "        created_at.append(x.created_at)\n",
    "        favorite_count.append(x.favorite_count)\n",
    "        retweet_count.append(x.retweet_count)\n",
    "        full_text.append(x.text)\n",
    "    \n",
    "    # Create pandas dataframe from the lists\n",
    "    df = pd.DataFrame({'time_created':created_at,'likes':favorite_count,'retweets':retweet_count,'tweet':full_text})\n",
    "    \n",
    "    # Store only last 300 tweets in df\n",
    "    df = df.head(300) \n",
    "    return df"
   ]
  },
  {
   "cell_type": "code",
   "execution_count": 28,
   "id": "69b7a455",
   "metadata": {
    "scrolled": true
   },
   "outputs": [
    {
     "data": {
      "text/html": [
       "<div>\n",
       "<style scoped>\n",
       "    .dataframe tbody tr th:only-of-type {\n",
       "        vertical-align: middle;\n",
       "    }\n",
       "\n",
       "    .dataframe tbody tr th {\n",
       "        vertical-align: top;\n",
       "    }\n",
       "\n",
       "    .dataframe thead th {\n",
       "        text-align: right;\n",
       "    }\n",
       "</style>\n",
       "<table border=\"1\" class=\"dataframe\">\n",
       "  <thead>\n",
       "    <tr style=\"text-align: right;\">\n",
       "      <th></th>\n",
       "      <th>time_created</th>\n",
       "      <th>likes</th>\n",
       "      <th>retweets</th>\n",
       "      <th>tweet</th>\n",
       "    </tr>\n",
       "  </thead>\n",
       "  <tbody>\n",
       "    <tr>\n",
       "      <th>0</th>\n",
       "      <td>2022-01-01 01:58:52+00:00</td>\n",
       "      <td>46679</td>\n",
       "      <td>400</td>\n",
       "      <td>@BLKMDL3 @Tesla 🔥</td>\n",
       "    </tr>\n",
       "    <tr>\n",
       "      <th>1</th>\n",
       "      <td>2022-01-01 00:53:13+00:00</td>\n",
       "      <td>1951</td>\n",
       "      <td>90</td>\n",
       "      <td>@MiFSDBetaTester @WholeMarsBlog 🤣</td>\n",
       "    </tr>\n",
       "    <tr>\n",
       "      <th>2</th>\n",
       "      <td>2021-12-31 02:23:58+00:00</td>\n",
       "      <td>21221</td>\n",
       "      <td>719</td>\n",
       "      <td>@TheBabylonBee 🤣</td>\n",
       "    </tr>\n",
       "    <tr>\n",
       "      <th>3</th>\n",
       "      <td>2021-12-30 21:11:23+00:00</td>\n",
       "      <td>12486</td>\n",
       "      <td>354</td>\n",
       "      <td>@roshanpateI 🤣 $7</td>\n",
       "    </tr>\n",
       "    <tr>\n",
       "      <th>4</th>\n",
       "      <td>2021-12-30 20:47:53+00:00</td>\n",
       "      <td>10908</td>\n",
       "      <td>406</td>\n",
       "      <td>@tesla_raj Many UI improvements coming</td>\n",
       "    </tr>\n",
       "  </tbody>\n",
       "</table>\n",
       "</div>"
      ],
      "text/plain": [
       "               time_created  likes  retweets  \\\n",
       "0 2022-01-01 01:58:52+00:00  46679       400   \n",
       "1 2022-01-01 00:53:13+00:00   1951        90   \n",
       "2 2021-12-31 02:23:58+00:00  21221       719   \n",
       "3 2021-12-30 21:11:23+00:00  12486       354   \n",
       "4 2021-12-30 20:47:53+00:00  10908       406   \n",
       "\n",
       "                                    tweet  \n",
       "0                       @BLKMDL3 @Tesla 🔥  \n",
       "1       @MiFSDBetaTester @WholeMarsBlog 🤣  \n",
       "2                        @TheBabylonBee 🤣  \n",
       "3                       @roshanpateI 🤣 $7  \n",
       "4  @tesla_raj Many UI improvements coming  "
      ]
     },
     "execution_count": 28,
     "metadata": {},
     "output_type": "execute_result"
    }
   ],
   "source": [
    "# Extracting and processing elon musk tweets\n",
    "\n",
    "df_elon = process_data('elonmusk')\n",
    "df_elon.head()"
   ]
  },
  {
   "cell_type": "code",
   "execution_count": 6,
   "id": "46eff7bd",
   "metadata": {},
   "outputs": [
    {
     "data": {
      "text/html": [
       "<div>\n",
       "<style scoped>\n",
       "    .dataframe tbody tr th:only-of-type {\n",
       "        vertical-align: middle;\n",
       "    }\n",
       "\n",
       "    .dataframe tbody tr th {\n",
       "        vertical-align: top;\n",
       "    }\n",
       "\n",
       "    .dataframe thead th {\n",
       "        text-align: right;\n",
       "    }\n",
       "</style>\n",
       "<table border=\"1\" class=\"dataframe\">\n",
       "  <thead>\n",
       "    <tr style=\"text-align: right;\">\n",
       "      <th></th>\n",
       "      <th>time_created</th>\n",
       "      <th>likes</th>\n",
       "      <th>retweets</th>\n",
       "      <th>tweet</th>\n",
       "    </tr>\n",
       "  </thead>\n",
       "  <tbody>\n",
       "    <tr>\n",
       "      <th>0</th>\n",
       "      <td>2021-12-30 01:20:15+00:00</td>\n",
       "      <td>1641</td>\n",
       "      <td>220</td>\n",
       "      <td>Heroes like @PumlaNtlabati are spreading impor...</td>\n",
       "    </tr>\n",
       "    <tr>\n",
       "      <th>1</th>\n",
       "      <td>2021-12-27 22:49:47+00:00</td>\n",
       "      <td>3511</td>\n",
       "      <td>437</td>\n",
       "      <td>We have some, but not all, of the tools we nee...</td>\n",
       "    </tr>\n",
       "    <tr>\n",
       "      <th>2</th>\n",
       "      <td>2021-12-26 18:34:19+00:00</td>\n",
       "      <td>6423</td>\n",
       "      <td>629</td>\n",
       "      <td>The world has lost a hero. Archbishop Desmond ...</td>\n",
       "    </tr>\n",
       "    <tr>\n",
       "      <th>3</th>\n",
       "      <td>2021-12-24 00:30:44+00:00</td>\n",
       "      <td>4978</td>\n",
       "      <td>630</td>\n",
       "      <td>One of my favorite holiday traditions is shari...</td>\n",
       "    </tr>\n",
       "    <tr>\n",
       "      <th>4</th>\n",
       "      <td>2021-12-23 01:06:40+00:00</td>\n",
       "      <td>3462</td>\n",
       "      <td>694</td>\n",
       "      <td>Mamello Makhele is a hero from Lesotho who tra...</td>\n",
       "    </tr>\n",
       "  </tbody>\n",
       "</table>\n",
       "</div>"
      ],
      "text/plain": [
       "               time_created  likes  retweets  \\\n",
       "0 2021-12-30 01:20:15+00:00   1641       220   \n",
       "1 2021-12-27 22:49:47+00:00   3511       437   \n",
       "2 2021-12-26 18:34:19+00:00   6423       629   \n",
       "3 2021-12-24 00:30:44+00:00   4978       630   \n",
       "4 2021-12-23 01:06:40+00:00   3462       694   \n",
       "\n",
       "                                               tweet  \n",
       "0  Heroes like @PumlaNtlabati are spreading impor...  \n",
       "1  We have some, but not all, of the tools we nee...  \n",
       "2  The world has lost a hero. Archbishop Desmond ...  \n",
       "3  One of my favorite holiday traditions is shari...  \n",
       "4  Mamello Makhele is a hero from Lesotho who tra...  "
      ]
     },
     "execution_count": 6,
     "metadata": {},
     "output_type": "execute_result"
    }
   ],
   "source": [
    "# Extracting and processing bill gates tweets\n",
    "\n",
    "df_bill = process_data('billgates')\n",
    "df_bill.head()"
   ]
  },
  {
   "cell_type": "code",
   "execution_count": 7,
   "id": "f2254a7b",
   "metadata": {},
   "outputs": [
    {
     "data": {
      "text/html": [
       "<div>\n",
       "<style scoped>\n",
       "    .dataframe tbody tr th:only-of-type {\n",
       "        vertical-align: middle;\n",
       "    }\n",
       "\n",
       "    .dataframe tbody tr th {\n",
       "        vertical-align: top;\n",
       "    }\n",
       "\n",
       "    .dataframe thead th {\n",
       "        text-align: right;\n",
       "    }\n",
       "</style>\n",
       "<table border=\"1\" class=\"dataframe\">\n",
       "  <thead>\n",
       "    <tr style=\"text-align: right;\">\n",
       "      <th></th>\n",
       "      <th>time_created</th>\n",
       "      <th>likes</th>\n",
       "      <th>retweets</th>\n",
       "      <th>tweet</th>\n",
       "    </tr>\n",
       "  </thead>\n",
       "  <tbody>\n",
       "    <tr>\n",
       "      <th>0</th>\n",
       "      <td>2020-11-04 09:04:50+00:00</td>\n",
       "      <td>387423</td>\n",
       "      <td>39241</td>\n",
       "      <td>KANYE 2024 https://t.co/Zm2pKcn12t</td>\n",
       "    </tr>\n",
       "    <tr>\n",
       "      <th>1</th>\n",
       "      <td>2020-11-03 20:53:31+00:00</td>\n",
       "      <td>205307</td>\n",
       "      <td>7621</td>\n",
       "      <td>I VOTED 🇺🇸 https://t.co/hlgIJUST4x</td>\n",
       "    </tr>\n",
       "    <tr>\n",
       "      <th>2</th>\n",
       "      <td>2020-11-03 20:51:55+00:00</td>\n",
       "      <td>79437</td>\n",
       "      <td>2891</td>\n",
       "      <td>KANYE2020 🇺🇸 https://t.co/3kd8vrrHZQ</td>\n",
       "    </tr>\n",
       "    <tr>\n",
       "      <th>3</th>\n",
       "      <td>2020-11-03 20:50:49+00:00</td>\n",
       "      <td>64768</td>\n",
       "      <td>1908</td>\n",
       "      <td>🕊 https://t.co/tFqpKyQzkY</td>\n",
       "    </tr>\n",
       "    <tr>\n",
       "      <th>4</th>\n",
       "      <td>2020-11-03 20:42:45+00:00</td>\n",
       "      <td>74706</td>\n",
       "      <td>3646</td>\n",
       "      <td>The first vote of my life         We are here ...</td>\n",
       "    </tr>\n",
       "  </tbody>\n",
       "</table>\n",
       "</div>"
      ],
      "text/plain": [
       "               time_created   likes  retweets  \\\n",
       "0 2020-11-04 09:04:50+00:00  387423     39241   \n",
       "1 2020-11-03 20:53:31+00:00  205307      7621   \n",
       "2 2020-11-03 20:51:55+00:00   79437      2891   \n",
       "3 2020-11-03 20:50:49+00:00   64768      1908   \n",
       "4 2020-11-03 20:42:45+00:00   74706      3646   \n",
       "\n",
       "                                               tweet  \n",
       "0                 KANYE 2024 https://t.co/Zm2pKcn12t  \n",
       "1                 I VOTED 🇺🇸 https://t.co/hlgIJUST4x  \n",
       "2               KANYE2020 🇺🇸 https://t.co/3kd8vrrHZQ  \n",
       "3                          🕊 https://t.co/tFqpKyQzkY  \n",
       "4  The first vote of my life         We are here ...  "
      ]
     },
     "execution_count": 7,
     "metadata": {},
     "output_type": "execute_result"
    }
   ],
   "source": [
    "# Extracting and processing kanye west tweets\n",
    "\n",
    "df_ye = process_data('kanyewest')\n",
    "df_ye.head()"
   ]
  },
  {
   "cell_type": "markdown",
   "id": "9b314133",
   "metadata": {},
   "source": [
    "###### Making sure 300 tweets for each account\n",
    "If not, re-run the cell of the user(s) that did not have 300 tweets, and re-run the cell below to check"
   ]
  },
  {
   "cell_type": "code",
   "execution_count": 29,
   "id": "31057d5e",
   "metadata": {},
   "outputs": [
    {
     "name": "stdout",
     "output_type": "stream",
     "text": [
      "Elon: 300 \n",
      "Bill: 300 \n",
      "Kanye: 300\n"
     ]
    }
   ],
   "source": [
    "print(f\"Elon: {len(df_elon)} \\nBill: {len(df_bill)} \\nKanye: {len(df_ye)}\")"
   ]
  },
  {
   "cell_type": "markdown",
   "id": "29953ce5",
   "metadata": {},
   "source": [
    "### 3. Perform a data cleansing activity considered relevant for the process (if any)"
   ]
  },
  {
   "cell_type": "markdown",
   "id": "ea5729c5",
   "metadata": {},
   "source": [
    "###### Checking how many tweets contain RT"
   ]
  },
  {
   "cell_type": "code",
   "execution_count": 30,
   "id": "4d705e3a",
   "metadata": {},
   "outputs": [
    {
     "name": "stdout",
     "output_type": "stream",
     "text": [
      "Elon:  6 \n",
      "Bill:  41 \n",
      "Ye:  26\n"
     ]
    }
   ],
   "source": [
    "rt_elon = df_elon.tweet.str.contains(\"RT\")\n",
    "rt_bill = df_bill.tweet.str.contains(\"RT\")\n",
    "rt_ye = df_ye.tweet.str.contains(\"RT\")\n",
    "\n",
    "# Show how many retweets per account\n",
    "print('Elon: ', rt_elon.sum(), '\\nBill: ', rt_bill.sum(), '\\nYe: ', rt_ye.sum())"
   ]
  },
  {
   "cell_type": "markdown",
   "id": "bd6edede",
   "metadata": {},
   "source": [
    "###### Remove tweets containing RT"
   ]
  },
  {
   "cell_type": "code",
   "execution_count": 31,
   "id": "a2f4cc98",
   "metadata": {},
   "outputs": [
    {
     "data": {
      "text/plain": [
       "time_created    294\n",
       "likes           294\n",
       "retweets        294\n",
       "tweet           294\n",
       "dtype: int64"
      ]
     },
     "execution_count": 31,
     "metadata": {},
     "output_type": "execute_result"
    }
   ],
   "source": [
    "df_elon_clean = df_elon[~rt_elon]\n",
    "df_bill_clean = df_bill[~rt_bill] \n",
    "df_ye_clean = df_ye[~rt_ye]\n",
    "\n",
    "# To test\n",
    "df_elon_clean.count()"
   ]
  },
  {
   "cell_type": "markdown",
   "id": "8afb6311",
   "metadata": {},
   "source": [
    "6 rows removed as required"
   ]
  },
  {
   "cell_type": "markdown",
   "id": "273ba050",
   "metadata": {},
   "source": [
    "### 4. Provide the explanation of the process, the justification behind it, lessons learned and findings"
   ]
  },
  {
   "cell_type": "markdown",
   "id": "4961499b",
   "metadata": {},
   "source": [
    "**1.** API Connection gets created, which will give us access to twitter's API to be able to extract data from twitter accounts for analysis.<br/><br/><br/>\n",
    "**2.**<br/><br/>\n",
    "    **In [3]:** Creates a cursor, a function by the tweepy library. The purpose is to help know what attributes can be extracted and analysed. It will extract the directories of the items of the pages in a cursor. <br/><br/>\n",
    "    **In [4]:** Since there are 3 accounts needed to be analyzed, a function (process_data) was created, which basically extracts the data of a twitter user. The steps taken were initializing the needed attributes into empty lists, then creating a cursor which will extract the last 300 tweets of a user based on the input. Then, a for loop created basically iterates through all the created_at, favorite_count, etc. pages, and then appends the values to the lists that were initialized. Then creates a pandas dataframe of the lists. The function will return the pandas dataframe with the user's tweets data. <br/><br/>\n",
    "    **In [5-7]:** Uses the process_data function for each account. There were instances were there will not be 300 tweets because of requests limit.. in this case, we would just re-run the code(s) until it shows that there are 300 tweets. <br/><br/><br/>\n",
    "**3.** Retweets (RT) are tweets usually not by the account themselves, some of them have only 0 likes, it would be best to remove these to have only the tweets made by the accounts themselves."
   ]
  },
  {
   "cell_type": "markdown",
   "id": "6330e950",
   "metadata": {},
   "source": [
    "## Task 2– Exploratory Data Analysis (EDA)\n",
    "<hr style=\"border:2px solid black\"> </hr>\n",
    "\n",
    "*****Merge the information of the accounts and perform an EDA on the conjoint data to\n",
    "explain the nature of it.*****\n",
    "\n",
    "### Steps of the process:\n",
    "1. Comparison between accounts, e.g. number of followers, are the accounts producing original twits or mostly retweeting, etc.\n",
    "2. What users/accounts are more mentioned? Are there any favourite accounts among the influencers/accounts selected? What are the twits that have the most likes? What twits have been retweeted the most? Which one is the most successful account considering these two variables? At least three points should be taken for the analysis.\n",
    "3. Any other analysis that you consider relevant.\n",
    "4. Provide the explanation of the process, the justification behind it, lessons learned and findings. "
   ]
  },
  {
   "cell_type": "markdown",
   "id": "266d67e1",
   "metadata": {},
   "source": [
    "###### First, combine all the dataframes into one, for analysis by doing so:\n",
    "   1. Add a new column in each dataframe with the name of the account\n",
    "   2. Concatenate dataframes into one"
   ]
  },
  {
   "cell_type": "code",
   "execution_count": 32,
   "id": "6ec64bfd",
   "metadata": {},
   "outputs": [
    {
     "data": {
      "text/html": [
       "<div>\n",
       "<style scoped>\n",
       "    .dataframe tbody tr th:only-of-type {\n",
       "        vertical-align: middle;\n",
       "    }\n",
       "\n",
       "    .dataframe tbody tr th {\n",
       "        vertical-align: top;\n",
       "    }\n",
       "\n",
       "    .dataframe thead th {\n",
       "        text-align: right;\n",
       "    }\n",
       "</style>\n",
       "<table border=\"1\" class=\"dataframe\">\n",
       "  <thead>\n",
       "    <tr style=\"text-align: right;\">\n",
       "      <th></th>\n",
       "      <th>time_created</th>\n",
       "      <th>likes</th>\n",
       "      <th>retweets</th>\n",
       "      <th>tweet</th>\n",
       "      <th>user</th>\n",
       "    </tr>\n",
       "  </thead>\n",
       "  <tbody>\n",
       "    <tr>\n",
       "      <th>0</th>\n",
       "      <td>2022-01-01 01:58:52+00:00</td>\n",
       "      <td>46679</td>\n",
       "      <td>400</td>\n",
       "      <td>@BLKMDL3 @Tesla 🔥</td>\n",
       "      <td>elonmusk</td>\n",
       "    </tr>\n",
       "    <tr>\n",
       "      <th>1</th>\n",
       "      <td>2022-01-01 00:53:13+00:00</td>\n",
       "      <td>1951</td>\n",
       "      <td>90</td>\n",
       "      <td>@MiFSDBetaTester @WholeMarsBlog 🤣</td>\n",
       "      <td>elonmusk</td>\n",
       "    </tr>\n",
       "    <tr>\n",
       "      <th>2</th>\n",
       "      <td>2021-12-31 02:23:58+00:00</td>\n",
       "      <td>21221</td>\n",
       "      <td>719</td>\n",
       "      <td>@TheBabylonBee 🤣</td>\n",
       "      <td>elonmusk</td>\n",
       "    </tr>\n",
       "    <tr>\n",
       "      <th>3</th>\n",
       "      <td>2021-12-30 21:11:23+00:00</td>\n",
       "      <td>12486</td>\n",
       "      <td>354</td>\n",
       "      <td>@roshanpateI 🤣 $7</td>\n",
       "      <td>elonmusk</td>\n",
       "    </tr>\n",
       "    <tr>\n",
       "      <th>4</th>\n",
       "      <td>2021-12-30 20:47:53+00:00</td>\n",
       "      <td>10908</td>\n",
       "      <td>406</td>\n",
       "      <td>@tesla_raj Many UI improvements coming</td>\n",
       "      <td>elonmusk</td>\n",
       "    </tr>\n",
       "  </tbody>\n",
       "</table>\n",
       "</div>"
      ],
      "text/plain": [
       "               time_created  likes  retweets  \\\n",
       "0 2022-01-01 01:58:52+00:00  46679       400   \n",
       "1 2022-01-01 00:53:13+00:00   1951        90   \n",
       "2 2021-12-31 02:23:58+00:00  21221       719   \n",
       "3 2021-12-30 21:11:23+00:00  12486       354   \n",
       "4 2021-12-30 20:47:53+00:00  10908       406   \n",
       "\n",
       "                                    tweet      user  \n",
       "0                       @BLKMDL3 @Tesla 🔥  elonmusk  \n",
       "1       @MiFSDBetaTester @WholeMarsBlog 🤣  elonmusk  \n",
       "2                        @TheBabylonBee 🤣  elonmusk  \n",
       "3                       @roshanpateI 🤣 $7  elonmusk  \n",
       "4  @tesla_raj Many UI improvements coming  elonmusk  "
      ]
     },
     "execution_count": 32,
     "metadata": {},
     "output_type": "execute_result"
    }
   ],
   "source": [
    "# Add new column \n",
    "df_elon_clean['user'] = 'elonmusk'\n",
    "df_bill_clean['user'] = 'billgates'\n",
    "df_ye_clean['user'] = 'kanyewest'\n",
    "\n",
    "# Concatenate df's\n",
    "frames = [df_elon_clean, df_bill_clean, df_ye_clean]\n",
    "df = pd.concat(frames)\n",
    "df.head()"
   ]
  },
  {
   "cell_type": "markdown",
   "id": "d8034493",
   "metadata": {},
   "source": [
    "### 1. Comparison between accounts: Number of followers, Are the accounts producing original twits or mostly retweeting, which accounts with most likes and retweets, etc."
   ]
  },
  {
   "cell_type": "markdown",
   "id": "1954d00a",
   "metadata": {},
   "source": [
    "###### Compare number of followers"
   ]
  },
  {
   "cell_type": "code",
   "execution_count": 34,
   "id": "099f3019",
   "metadata": {},
   "outputs": [
    {
     "data": {
      "image/png": "[encoded data removed]",
      "text/plain": [
       "<Figure size 432x288 with 1 Axes>"
      ]
     },
     "metadata": {
      "needs_background": "light"
     },
     "output_type": "display_data"
    }
   ],
   "source": [
    "# Get users\n",
    "elon = api.get_user(screen_name='elonmusk')\n",
    "bill = api.get_user(screen_name='billgates')\n",
    "ye = api.get_user(screen_name='kanyewest')\n",
    "\n",
    "# Get number of followers\n",
    "no_of_followers = {elon.screen_name : elon.followers_count, bill.screen_name : bill.followers_count, ye.screen_name : ye.followers_count}\n",
    "\n",
    "# Plot a bar chart to compare number of followers\n",
    "plt.bar(range(len(no_of_followers)), list(no_of_followers.values()), align='center')\n",
    "plt.xticks(range(len(no_of_followers)), list(no_of_followers.keys()))\n",
    "plt.ticklabel_format(style='plain', axis='y')\n",
    "plt.ylabel('Number of followers')\n",
    "plt.show()"
   ]
  },
  {
   "cell_type": "markdown",
   "id": "8cd6bec1",
   "metadata": {},
   "source": [
    "Elon has the most followers. Bill has a little less than Elon. Kanye has around half the followers Elon has. "
   ]
  },
  {
   "cell_type": "markdown",
   "id": "6200c293",
   "metadata": {},
   "source": [
    "###### Accounts producing original twits or mostly retweeting\n",
    "For this, in step 3 in task 1, when cleaning the data, we saved how many retweets each users have, (rt_elon, ..), to visualize it"
   ]
  },
  {
   "cell_type": "code",
   "execution_count": 35,
   "id": "9ed9e6f0",
   "metadata": {},
   "outputs": [
    {
     "data": {
      "image/png": "[encoded data removed]",
      "text/plain": [
       "<Figure size 432x288 with 1 Axes>"
      ]
     },
     "metadata": {
      "needs_background": "light"
     },
     "output_type": "display_data"
    }
   ],
   "source": [
    "# In the data cleaning step, the retweets for elon, bill and kanye are under the variables rt_elon, rt_bill and rt_ye \n",
    "\n",
    "twt_or_rt = {'Elon Musk' : rt_elon.sum(), 'Bill Gates' : rt_bill.sum(), 'Kanye West' : rt_ye.sum()}\n",
    "\n",
    "plt.bar(range(len(twt_or_rt)), list(twt_or_rt.values()), align='center')\n",
    "plt.xticks(range(len(twt_or_rt)), list(twt_or_rt.keys()))\n",
    "plt.ylabel('Retweets')\n",
    "plt.show()"
   ]
  },
  {
   "cell_type": "markdown",
   "id": "89a73ea0",
   "metadata": {},
   "source": [
    "Bill Gates retweets more often than Elon Musk and Kanye West, with Kanye slightly more often the Elon. Bill Gates retweets more than twice as often than Elon does."
   ]
  },
  {
   "cell_type": "markdown",
   "id": "39348af3",
   "metadata": {},
   "source": [
    "###### Compare number of likes and retweets between accounts"
   ]
  },
  {
   "cell_type": "code",
   "execution_count": 36,
   "id": "e4173ea1",
   "metadata": {},
   "outputs": [
    {
     "data": {
      "image/png": "[encoded data removed]",
      "text/plain": [
       "<Figure size 432x288 with 1 Axes>"
      ]
     },
     "metadata": {
      "needs_background": "light"
     },
     "output_type": "display_data"
    }
   ],
   "source": [
    "# Create pivot table\n",
    "table = pd.pivot_table(data=df,index=['user'],values=['likes', 'retweets'],aggfunc='sum')\n",
    "# Plot bar chart\n",
    "table.plot.bar(xlabel='').ticklabel_format(style='plain', axis='y')"
   ]
  },
  {
   "cell_type": "markdown",
   "id": "b82fb883",
   "metadata": {},
   "source": [
    "Elon has the most likes, and Kanye has the most retweets. Both Elon and Kanye have similar influence. Bill Gates does not get much likes or retweets. All influencers have much less retweets than their likes, which is expected. "
   ]
  },
  {
   "cell_type": "markdown",
   "id": "170a9955",
   "metadata": {},
   "source": [
    "### 2. What users/accounts are more mentioned? Are there any favourite accounts among the influencers/accounts selected? What are the twits that have the most likes? What twits have been retweeted the most? Which one is the most successful account considering these two variables? At least three points should be taken for the analysis."
   ]
  },
  {
   "cell_type": "markdown",
   "id": "b78986e6",
   "metadata": {},
   "source": [
    "###### What users/accounts are more mentioned? "
   ]
  },
  {
   "cell_type": "code",
   "execution_count": 37,
   "id": "561def18",
   "metadata": {},
   "outputs": [
    {
     "data": {
      "image/png": "[encoded data removed]",
      "text/plain": [
       "<Figure size 432x288 with 1 Axes>"
      ]
     },
     "metadata": {
      "needs_background": "light"
     },
     "output_type": "display_data"
    }
   ],
   "source": [
    "at_elon = df_elon.tweet.str.contains(\"@\")\n",
    "at_bill = df_bill.tweet.str.contains(\"@\")\n",
    "at_ye = df_ye.tweet.str.contains(\"@\")\n",
    "\n",
    "# Show how many mentions per account\n",
    "mentions = {'Elon':at_elon.sum(), 'Bill':at_bill.sum(), 'Kanye':at_ye.sum()}\n",
    "\n",
    "# Visualize\n",
    "plt.bar(range(len(mentions)), list(mentions.values()), align='center')\n",
    "plt.xticks(range(len(mentions)), list(mentions.keys()))\n",
    "plt.ylabel('Mentions')\n",
    "plt.show()"
   ]
  },
  {
   "cell_type": "markdown",
   "id": "9b9c2c62",
   "metadata": {},
   "source": [
    "It appears that Elon Musk has the most mentions, having more mentions than Bill and Kanye combined. Kanye has a very low amount of mentions compared to the rest"
   ]
  },
  {
   "cell_type": "markdown",
   "id": "7e583d13",
   "metadata": {},
   "source": [
    "###### What are the twits that have the most likes? (top 5-10 tweets)"
   ]
  },
  {
   "cell_type": "code",
   "execution_count": 38,
   "id": "327a59ff",
   "metadata": {},
   "outputs": [
    {
     "data": {
      "text/html": [
       "<div>\n",
       "<style scoped>\n",
       "    .dataframe tbody tr th:only-of-type {\n",
       "        vertical-align: middle;\n",
       "    }\n",
       "\n",
       "    .dataframe tbody tr th {\n",
       "        vertical-align: top;\n",
       "    }\n",
       "\n",
       "    .dataframe thead th {\n",
       "        text-align: right;\n",
       "    }\n",
       "</style>\n",
       "<table border=\"1\" class=\"dataframe\">\n",
       "  <thead>\n",
       "    <tr style=\"text-align: right;\">\n",
       "      <th></th>\n",
       "      <th>time_created</th>\n",
       "      <th>likes</th>\n",
       "      <th>retweets</th>\n",
       "      <th>tweet</th>\n",
       "      <th>user</th>\n",
       "    </tr>\n",
       "  </thead>\n",
       "  <tbody>\n",
       "    <tr>\n",
       "      <th>257</th>\n",
       "      <td>2020-09-16 17:13:33+00:00</td>\n",
       "      <td>726824</td>\n",
       "      <td>159156</td>\n",
       "      <td>Trust me ... I WONT STOP https://t.co/RmVkqrSa4F</td>\n",
       "      <td>kanyewest</td>\n",
       "    </tr>\n",
       "    <tr>\n",
       "      <th>271</th>\n",
       "      <td>2021-12-08 17:21:49+00:00</td>\n",
       "      <td>617479</td>\n",
       "      <td>66606</td>\n",
       "      <td>https://t.co/FJaW6L5ba0</td>\n",
       "      <td>elonmusk</td>\n",
       "    </tr>\n",
       "    <tr>\n",
       "      <th>89</th>\n",
       "      <td>2021-12-20 02:24:01+00:00</td>\n",
       "      <td>607173</td>\n",
       "      <td>57746</td>\n",
       "      <td>For those wondering, I will pay over $11 billi...</td>\n",
       "      <td>elonmusk</td>\n",
       "    </tr>\n",
       "    <tr>\n",
       "      <th>197</th>\n",
       "      <td>2021-12-12 22:25:09+00:00</td>\n",
       "      <td>602990</td>\n",
       "      <td>46180</td>\n",
       "      <td>https://t.co/KPQrN13zr9</td>\n",
       "      <td>elonmusk</td>\n",
       "    </tr>\n",
       "    <tr>\n",
       "      <th>38</th>\n",
       "      <td>2021-12-25 20:17:37+00:00</td>\n",
       "      <td>528521</td>\n",
       "      <td>31487</td>\n",
       "      <td>Merry Christmas 🎄🎁 ⛄️ ⭐️ 😃</td>\n",
       "      <td>elonmusk</td>\n",
       "    </tr>\n",
       "    <tr>\n",
       "      <th>33</th>\n",
       "      <td>2021-12-26 12:28:15+00:00</td>\n",
       "      <td>440381</td>\n",
       "      <td>35562</td>\n",
       "      <td>https://t.co/Scr3Ub3tgT</td>\n",
       "      <td>elonmusk</td>\n",
       "    </tr>\n",
       "    <tr>\n",
       "      <th>246</th>\n",
       "      <td>2021-12-10 03:56:22+00:00</td>\n",
       "      <td>426161</td>\n",
       "      <td>32273</td>\n",
       "      <td>thinking of quitting my jobs &amp;amp; becoming an...</td>\n",
       "      <td>elonmusk</td>\n",
       "    </tr>\n",
       "    <tr>\n",
       "      <th>247</th>\n",
       "      <td>2021-12-10 02:51:25+00:00</td>\n",
       "      <td>402081</td>\n",
       "      <td>38041</td>\n",
       "      <td>https://t.co/ZrZ1EfLYWy</td>\n",
       "      <td>elonmusk</td>\n",
       "    </tr>\n",
       "    <tr>\n",
       "      <th>153</th>\n",
       "      <td>2021-12-16 04:35:40+00:00</td>\n",
       "      <td>393181</td>\n",
       "      <td>39071</td>\n",
       "      <td>https://t.co/Wv6iJDuTge</td>\n",
       "      <td>elonmusk</td>\n",
       "    </tr>\n",
       "    <tr>\n",
       "      <th>0</th>\n",
       "      <td>2020-11-04 09:04:50+00:00</td>\n",
       "      <td>387423</td>\n",
       "      <td>39241</td>\n",
       "      <td>KANYE 2024 https://t.co/Zm2pKcn12t</td>\n",
       "      <td>kanyewest</td>\n",
       "    </tr>\n",
       "  </tbody>\n",
       "</table>\n",
       "</div>"
      ],
      "text/plain": [
       "                 time_created   likes  retweets  \\\n",
       "257 2020-09-16 17:13:33+00:00  726824    159156   \n",
       "271 2021-12-08 17:21:49+00:00  617479     66606   \n",
       "89  2021-12-20 02:24:01+00:00  607173     57746   \n",
       "197 2021-12-12 22:25:09+00:00  602990     46180   \n",
       "38  2021-12-25 20:17:37+00:00  528521     31487   \n",
       "33  2021-12-26 12:28:15+00:00  440381     35562   \n",
       "246 2021-12-10 03:56:22+00:00  426161     32273   \n",
       "247 2021-12-10 02:51:25+00:00  402081     38041   \n",
       "153 2021-12-16 04:35:40+00:00  393181     39071   \n",
       "0   2020-11-04 09:04:50+00:00  387423     39241   \n",
       "\n",
       "                                                 tweet       user  \n",
       "257   Trust me ... I WONT STOP https://t.co/RmVkqrSa4F  kanyewest  \n",
       "271                            https://t.co/FJaW6L5ba0   elonmusk  \n",
       "89   For those wondering, I will pay over $11 billi...   elonmusk  \n",
       "197                            https://t.co/KPQrN13zr9   elonmusk  \n",
       "38                          Merry Christmas 🎄🎁 ⛄️ ⭐️ 😃   elonmusk  \n",
       "33                             https://t.co/Scr3Ub3tgT   elonmusk  \n",
       "246  thinking of quitting my jobs &amp; becoming an...   elonmusk  \n",
       "247                            https://t.co/ZrZ1EfLYWy   elonmusk  \n",
       "153                            https://t.co/Wv6iJDuTge   elonmusk  \n",
       "0                   KANYE 2024 https://t.co/Zm2pKcn12t  kanyewest  "
      ]
     },
     "execution_count": 38,
     "metadata": {},
     "output_type": "execute_result"
    }
   ],
   "source": [
    "df.nlargest(10,'likes')"
   ]
  },
  {
   "cell_type": "markdown",
   "id": "5137ce2d",
   "metadata": {},
   "source": [
    "###### What twits have been retweeted the most? (top 5-10 retweets)"
   ]
  },
  {
   "cell_type": "code",
   "execution_count": 39,
   "id": "4c7bd8f8",
   "metadata": {},
   "outputs": [
    {
     "data": {
      "text/html": [
       "<div>\n",
       "<style scoped>\n",
       "    .dataframe tbody tr th:only-of-type {\n",
       "        vertical-align: middle;\n",
       "    }\n",
       "\n",
       "    .dataframe tbody tr th {\n",
       "        vertical-align: top;\n",
       "    }\n",
       "\n",
       "    .dataframe thead th {\n",
       "        text-align: right;\n",
       "    }\n",
       "</style>\n",
       "<table border=\"1\" class=\"dataframe\">\n",
       "  <thead>\n",
       "    <tr style=\"text-align: right;\">\n",
       "      <th></th>\n",
       "      <th>time_created</th>\n",
       "      <th>likes</th>\n",
       "      <th>retweets</th>\n",
       "      <th>tweet</th>\n",
       "      <th>user</th>\n",
       "    </tr>\n",
       "  </thead>\n",
       "  <tbody>\n",
       "    <tr>\n",
       "      <th>257</th>\n",
       "      <td>2020-09-16 17:13:33+00:00</td>\n",
       "      <td>726824</td>\n",
       "      <td>159156</td>\n",
       "      <td>Trust me ... I WONT STOP https://t.co/RmVkqrSa4F</td>\n",
       "      <td>kanyewest</td>\n",
       "    </tr>\n",
       "    <tr>\n",
       "      <th>98</th>\n",
       "      <td>2020-10-12 22:06:49+00:00</td>\n",
       "      <td>156266</td>\n",
       "      <td>85655</td>\n",
       "      <td>I stand with my Nigerian brothers and sisters ...</td>\n",
       "      <td>kanyewest</td>\n",
       "    </tr>\n",
       "    <tr>\n",
       "      <th>202</th>\n",
       "      <td>2020-09-22 12:33:11+00:00</td>\n",
       "      <td>258576</td>\n",
       "      <td>78983</td>\n",
       "      <td>WINNING IS THE ONLY OPTION</td>\n",
       "      <td>kanyewest</td>\n",
       "    </tr>\n",
       "    <tr>\n",
       "      <th>271</th>\n",
       "      <td>2021-12-08 17:21:49+00:00</td>\n",
       "      <td>617479</td>\n",
       "      <td>66606</td>\n",
       "      <td>https://t.co/FJaW6L5ba0</td>\n",
       "      <td>elonmusk</td>\n",
       "    </tr>\n",
       "    <tr>\n",
       "      <th>101</th>\n",
       "      <td>2021-12-19 19:17:57+00:00</td>\n",
       "      <td>311237</td>\n",
       "      <td>63688</td>\n",
       "      <td>Should be taught to all at a young age https:/...</td>\n",
       "      <td>elonmusk</td>\n",
       "    </tr>\n",
       "    <tr>\n",
       "      <th>89</th>\n",
       "      <td>2021-12-20 02:24:01+00:00</td>\n",
       "      <td>607173</td>\n",
       "      <td>57746</td>\n",
       "      <td>For those wondering, I will pay over $11 billi...</td>\n",
       "      <td>elonmusk</td>\n",
       "    </tr>\n",
       "    <tr>\n",
       "      <th>12</th>\n",
       "      <td>2021-12-30 06:18:38+00:00</td>\n",
       "      <td>335774</td>\n",
       "      <td>54160</td>\n",
       "      <td>https://t.co/mVhCpxVPZI</td>\n",
       "      <td>elonmusk</td>\n",
       "    </tr>\n",
       "    <tr>\n",
       "      <th>183</th>\n",
       "      <td>2021-12-14 10:34:23+00:00</td>\n",
       "      <td>364756</td>\n",
       "      <td>53006</td>\n",
       "      <td>Tesla will make some merch buyable with Doge &amp;...</td>\n",
       "      <td>elonmusk</td>\n",
       "    </tr>\n",
       "    <tr>\n",
       "      <th>121</th>\n",
       "      <td>2020-09-26 13:51:48+00:00</td>\n",
       "      <td>255310</td>\n",
       "      <td>51365</td>\n",
       "      <td>BELIEVE WHAT I SAY (snippet) https://t.co/U7Y2...</td>\n",
       "      <td>kanyewest</td>\n",
       "    </tr>\n",
       "    <tr>\n",
       "      <th>197</th>\n",
       "      <td>2021-12-12 22:25:09+00:00</td>\n",
       "      <td>602990</td>\n",
       "      <td>46180</td>\n",
       "      <td>https://t.co/KPQrN13zr9</td>\n",
       "      <td>elonmusk</td>\n",
       "    </tr>\n",
       "  </tbody>\n",
       "</table>\n",
       "</div>"
      ],
      "text/plain": [
       "                 time_created   likes  retweets  \\\n",
       "257 2020-09-16 17:13:33+00:00  726824    159156   \n",
       "98  2020-10-12 22:06:49+00:00  156266     85655   \n",
       "202 2020-09-22 12:33:11+00:00  258576     78983   \n",
       "271 2021-12-08 17:21:49+00:00  617479     66606   \n",
       "101 2021-12-19 19:17:57+00:00  311237     63688   \n",
       "89  2021-12-20 02:24:01+00:00  607173     57746   \n",
       "12  2021-12-30 06:18:38+00:00  335774     54160   \n",
       "183 2021-12-14 10:34:23+00:00  364756     53006   \n",
       "121 2020-09-26 13:51:48+00:00  255310     51365   \n",
       "197 2021-12-12 22:25:09+00:00  602990     46180   \n",
       "\n",
       "                                                 tweet       user  \n",
       "257   Trust me ... I WONT STOP https://t.co/RmVkqrSa4F  kanyewest  \n",
       "98   I stand with my Nigerian brothers and sisters ...  kanyewest  \n",
       "202                         WINNING IS THE ONLY OPTION  kanyewest  \n",
       "271                            https://t.co/FJaW6L5ba0   elonmusk  \n",
       "101  Should be taught to all at a young age https:/...   elonmusk  \n",
       "89   For those wondering, I will pay over $11 billi...   elonmusk  \n",
       "12                             https://t.co/mVhCpxVPZI   elonmusk  \n",
       "183  Tesla will make some merch buyable with Doge &...   elonmusk  \n",
       "121  BELIEVE WHAT I SAY (snippet) https://t.co/U7Y2...  kanyewest  \n",
       "197                            https://t.co/KPQrN13zr9   elonmusk  "
      ]
     },
     "execution_count": 39,
     "metadata": {},
     "output_type": "execute_result"
    }
   ],
   "source": [
    "df.nlargest(10,'retweets')"
   ]
  },
  {
   "cell_type": "markdown",
   "id": "1a09bf66",
   "metadata": {},
   "source": [
    "###### Which one is the most successful account considering these two variables?"
   ]
  },
  {
   "cell_type": "markdown",
   "id": "dcc5583c",
   "metadata": {},
   "source": [
    "Although Elon Musk does not have the most liked tweet, he has the most tweets with the most likes. Kanye has the top retweets, and has both the most liked and retweeted tweet from the 3 accounts. Bill Gates has no tweet in the top 10 liked and retweeted posts. The most successful is between Elon and Kanye, but Elon with a bigger advantage."
   ]
  },
  {
   "cell_type": "markdown",
   "id": "fd8cdbaf",
   "metadata": {},
   "source": [
    "### 3. Any other analysis that you consider relevant."
   ]
  },
  {
   "cell_type": "markdown",
   "id": "246d1d00",
   "metadata": {},
   "source": [
    "###### Which accounts have the least tweets and retweets"
   ]
  },
  {
   "cell_type": "code",
   "execution_count": 40,
   "id": "854b4c2e",
   "metadata": {},
   "outputs": [
    {
     "data": {
      "text/html": [
       "<div>\n",
       "<style scoped>\n",
       "    .dataframe tbody tr th:only-of-type {\n",
       "        vertical-align: middle;\n",
       "    }\n",
       "\n",
       "    .dataframe tbody tr th {\n",
       "        vertical-align: top;\n",
       "    }\n",
       "\n",
       "    .dataframe thead th {\n",
       "        text-align: right;\n",
       "    }\n",
       "</style>\n",
       "<table border=\"1\" class=\"dataframe\">\n",
       "  <thead>\n",
       "    <tr style=\"text-align: right;\">\n",
       "      <th></th>\n",
       "      <th>time_created</th>\n",
       "      <th>likes</th>\n",
       "      <th>retweets</th>\n",
       "      <th>tweet</th>\n",
       "      <th>user</th>\n",
       "    </tr>\n",
       "  </thead>\n",
       "  <tbody>\n",
       "    <tr>\n",
       "      <th>253</th>\n",
       "      <td>2021-03-05 20:43:38+00:00</td>\n",
       "      <td>16</td>\n",
       "      <td>3</td>\n",
       "      <td>@EDFaction @Breakthrough Thank you for your pa...</td>\n",
       "      <td>billgates</td>\n",
       "    </tr>\n",
       "    <tr>\n",
       "      <th>285</th>\n",
       "      <td>2021-02-16 18:18:15+00:00</td>\n",
       "      <td>16</td>\n",
       "      <td>5</td>\n",
       "      <td>@CliftonLeaf Thanks for inviting me to be a gu...</td>\n",
       "      <td>billgates</td>\n",
       "    </tr>\n",
       "    <tr>\n",
       "      <th>281</th>\n",
       "      <td>2021-02-18 00:56:30+00:00</td>\n",
       "      <td>28</td>\n",
       "      <td>4</td>\n",
       "      <td>@CBSEveningNews @NorahODonnell Thank you @Nora...</td>\n",
       "      <td>billgates</td>\n",
       "    </tr>\n",
       "    <tr>\n",
       "      <th>269</th>\n",
       "      <td>2021-02-20 22:09:10+00:00</td>\n",
       "      <td>44</td>\n",
       "      <td>7</td>\n",
       "      <td>@smh Thanks @GregCallaghan1 for talking with m...</td>\n",
       "      <td>billgates</td>\n",
       "    </tr>\n",
       "    <tr>\n",
       "      <th>258</th>\n",
       "      <td>2021-02-28 19:59:36+00:00</td>\n",
       "      <td>63</td>\n",
       "      <td>13</td>\n",
       "      <td>@EU_H2020 @EIB @Breakthrough @BloomBiorenewa1 ...</td>\n",
       "      <td>billgates</td>\n",
       "    </tr>\n",
       "    <tr>\n",
       "      <th>126</th>\n",
       "      <td>2021-09-17 17:17:35+00:00</td>\n",
       "      <td>242</td>\n",
       "      <td>24</td>\n",
       "      <td>Initial projections about the pandemic’s impac...</td>\n",
       "      <td>billgates</td>\n",
       "    </tr>\n",
       "    <tr>\n",
       "      <th>86</th>\n",
       "      <td>2021-10-20 04:05:14+00:00</td>\n",
       "      <td>256</td>\n",
       "      <td>21</td>\n",
       "      <td>We’ve done this before. In 2017, the @gatesfou...</td>\n",
       "      <td>billgates</td>\n",
       "    </tr>\n",
       "    <tr>\n",
       "      <th>26</th>\n",
       "      <td>2021-11-29 22:20:46+00:00</td>\n",
       "      <td>347</td>\n",
       "      <td>30</td>\n",
       "      <td>Experts like Trevor Bedford have done an excel...</td>\n",
       "      <td>billgates</td>\n",
       "    </tr>\n",
       "    <tr>\n",
       "      <th>156</th>\n",
       "      <td>2021-08-09 22:58:31+00:00</td>\n",
       "      <td>351</td>\n",
       "      <td>41</td>\n",
       "      <td>Avoiding a disaster will require courage, ambi...</td>\n",
       "      <td>billgates</td>\n",
       "    </tr>\n",
       "    <tr>\n",
       "      <th>155</th>\n",
       "      <td>2021-08-09 22:58:31+00:00</td>\n",
       "      <td>419</td>\n",
       "      <td>35</td>\n",
       "      <td>Every climate action we take must be toward th...</td>\n",
       "      <td>billgates</td>\n",
       "    </tr>\n",
       "  </tbody>\n",
       "</table>\n",
       "</div>"
      ],
      "text/plain": [
       "                 time_created  likes  retweets  \\\n",
       "253 2021-03-05 20:43:38+00:00     16         3   \n",
       "285 2021-02-16 18:18:15+00:00     16         5   \n",
       "281 2021-02-18 00:56:30+00:00     28         4   \n",
       "269 2021-02-20 22:09:10+00:00     44         7   \n",
       "258 2021-02-28 19:59:36+00:00     63        13   \n",
       "126 2021-09-17 17:17:35+00:00    242        24   \n",
       "86  2021-10-20 04:05:14+00:00    256        21   \n",
       "26  2021-11-29 22:20:46+00:00    347        30   \n",
       "156 2021-08-09 22:58:31+00:00    351        41   \n",
       "155 2021-08-09 22:58:31+00:00    419        35   \n",
       "\n",
       "                                                 tweet       user  \n",
       "253  @EDFaction @Breakthrough Thank you for your pa...  billgates  \n",
       "285  @CliftonLeaf Thanks for inviting me to be a gu...  billgates  \n",
       "281  @CBSEveningNews @NorahODonnell Thank you @Nora...  billgates  \n",
       "269  @smh Thanks @GregCallaghan1 for talking with m...  billgates  \n",
       "258  @EU_H2020 @EIB @Breakthrough @BloomBiorenewa1 ...  billgates  \n",
       "126  Initial projections about the pandemic’s impac...  billgates  \n",
       "86   We’ve done this before. In 2017, the @gatesfou...  billgates  \n",
       "26   Experts like Trevor Bedford have done an excel...  billgates  \n",
       "156  Avoiding a disaster will require courage, ambi...  billgates  \n",
       "155  Every climate action we take must be toward th...  billgates  "
      ]
     },
     "execution_count": 40,
     "metadata": {},
     "output_type": "execute_result"
    }
   ],
   "source": [
    "df.nsmallest(10,'likes')"
   ]
  },
  {
   "cell_type": "code",
   "execution_count": 41,
   "id": "15903ebf",
   "metadata": {},
   "outputs": [
    {
     "data": {
      "text/html": [
       "<div>\n",
       "<style scoped>\n",
       "    .dataframe tbody tr th:only-of-type {\n",
       "        vertical-align: middle;\n",
       "    }\n",
       "\n",
       "    .dataframe tbody tr th {\n",
       "        vertical-align: top;\n",
       "    }\n",
       "\n",
       "    .dataframe thead th {\n",
       "        text-align: right;\n",
       "    }\n",
       "</style>\n",
       "<table border=\"1\" class=\"dataframe\">\n",
       "  <thead>\n",
       "    <tr style=\"text-align: right;\">\n",
       "      <th></th>\n",
       "      <th>time_created</th>\n",
       "      <th>likes</th>\n",
       "      <th>retweets</th>\n",
       "      <th>tweet</th>\n",
       "      <th>user</th>\n",
       "    </tr>\n",
       "  </thead>\n",
       "  <tbody>\n",
       "    <tr>\n",
       "      <th>253</th>\n",
       "      <td>2021-03-05 20:43:38+00:00</td>\n",
       "      <td>16</td>\n",
       "      <td>3</td>\n",
       "      <td>@EDFaction @Breakthrough Thank you for your pa...</td>\n",
       "      <td>billgates</td>\n",
       "    </tr>\n",
       "    <tr>\n",
       "      <th>281</th>\n",
       "      <td>2021-02-18 00:56:30+00:00</td>\n",
       "      <td>28</td>\n",
       "      <td>4</td>\n",
       "      <td>@CBSEveningNews @NorahODonnell Thank you @Nora...</td>\n",
       "      <td>billgates</td>\n",
       "    </tr>\n",
       "    <tr>\n",
       "      <th>285</th>\n",
       "      <td>2021-02-16 18:18:15+00:00</td>\n",
       "      <td>16</td>\n",
       "      <td>5</td>\n",
       "      <td>@CliftonLeaf Thanks for inviting me to be a gu...</td>\n",
       "      <td>billgates</td>\n",
       "    </tr>\n",
       "    <tr>\n",
       "      <th>269</th>\n",
       "      <td>2021-02-20 22:09:10+00:00</td>\n",
       "      <td>44</td>\n",
       "      <td>7</td>\n",
       "      <td>@smh Thanks @GregCallaghan1 for talking with m...</td>\n",
       "      <td>billgates</td>\n",
       "    </tr>\n",
       "    <tr>\n",
       "      <th>258</th>\n",
       "      <td>2021-02-28 19:59:36+00:00</td>\n",
       "      <td>63</td>\n",
       "      <td>13</td>\n",
       "      <td>@EU_H2020 @EIB @Breakthrough @BloomBiorenewa1 ...</td>\n",
       "      <td>billgates</td>\n",
       "    </tr>\n",
       "    <tr>\n",
       "      <th>86</th>\n",
       "      <td>2021-10-20 04:05:14+00:00</td>\n",
       "      <td>256</td>\n",
       "      <td>21</td>\n",
       "      <td>We’ve done this before. In 2017, the @gatesfou...</td>\n",
       "      <td>billgates</td>\n",
       "    </tr>\n",
       "    <tr>\n",
       "      <th>126</th>\n",
       "      <td>2021-09-17 17:17:35+00:00</td>\n",
       "      <td>242</td>\n",
       "      <td>24</td>\n",
       "      <td>Initial projections about the pandemic’s impac...</td>\n",
       "      <td>billgates</td>\n",
       "    </tr>\n",
       "    <tr>\n",
       "      <th>26</th>\n",
       "      <td>2021-11-29 22:20:46+00:00</td>\n",
       "      <td>347</td>\n",
       "      <td>30</td>\n",
       "      <td>Experts like Trevor Bedford have done an excel...</td>\n",
       "      <td>billgates</td>\n",
       "    </tr>\n",
       "    <tr>\n",
       "      <th>266</th>\n",
       "      <td>2021-02-24 15:48:38+00:00</td>\n",
       "      <td>517</td>\n",
       "      <td>32</td>\n",
       "      <td>@colbertlateshow @gatesfoundation I always hav...</td>\n",
       "      <td>billgates</td>\n",
       "    </tr>\n",
       "    <tr>\n",
       "      <th>155</th>\n",
       "      <td>2021-08-09 22:58:31+00:00</td>\n",
       "      <td>419</td>\n",
       "      <td>35</td>\n",
       "      <td>Every climate action we take must be toward th...</td>\n",
       "      <td>billgates</td>\n",
       "    </tr>\n",
       "  </tbody>\n",
       "</table>\n",
       "</div>"
      ],
      "text/plain": [
       "                 time_created  likes  retweets  \\\n",
       "253 2021-03-05 20:43:38+00:00     16         3   \n",
       "281 2021-02-18 00:56:30+00:00     28         4   \n",
       "285 2021-02-16 18:18:15+00:00     16         5   \n",
       "269 2021-02-20 22:09:10+00:00     44         7   \n",
       "258 2021-02-28 19:59:36+00:00     63        13   \n",
       "86  2021-10-20 04:05:14+00:00    256        21   \n",
       "126 2021-09-17 17:17:35+00:00    242        24   \n",
       "26  2021-11-29 22:20:46+00:00    347        30   \n",
       "266 2021-02-24 15:48:38+00:00    517        32   \n",
       "155 2021-08-09 22:58:31+00:00    419        35   \n",
       "\n",
       "                                                 tweet       user  \n",
       "253  @EDFaction @Breakthrough Thank you for your pa...  billgates  \n",
       "281  @CBSEveningNews @NorahODonnell Thank you @Nora...  billgates  \n",
       "285  @CliftonLeaf Thanks for inviting me to be a gu...  billgates  \n",
       "269  @smh Thanks @GregCallaghan1 for talking with m...  billgates  \n",
       "258  @EU_H2020 @EIB @Breakthrough @BloomBiorenewa1 ...  billgates  \n",
       "86   We’ve done this before. In 2017, the @gatesfou...  billgates  \n",
       "126  Initial projections about the pandemic’s impac...  billgates  \n",
       "26   Experts like Trevor Bedford have done an excel...  billgates  \n",
       "266  @colbertlateshow @gatesfoundation I always hav...  billgates  \n",
       "155  Every climate action we take must be toward th...  billgates  "
      ]
     },
     "execution_count": 41,
     "metadata": {},
     "output_type": "execute_result"
    }
   ],
   "source": [
    "df.nsmallest(10,'retweets')"
   ]
  },
  {
   "cell_type": "markdown",
   "id": "1cd189e1",
   "metadata": {},
   "source": [
    "Bill Gates has the least liked and retweeted tweets compared to both accounts.."
   ]
  },
  {
   "cell_type": "markdown",
   "id": "019df18b",
   "metadata": {},
   "source": [
    "###### Which accounts have the most tweets and been most active in December 2021?"
   ]
  },
  {
   "cell_type": "code",
   "execution_count": 42,
   "id": "b494a626",
   "metadata": {},
   "outputs": [
    {
     "data": {
      "image/png": "[encoded data removed]",
      "text/plain": [
       "<Figure size 432x288 with 1 Axes>"
      ]
     },
     "metadata": {},
     "output_type": "display_data"
    }
   ],
   "source": [
    "# Store tweets in November in df_nov\n",
    "df_nov = df[pd.to_datetime(df['time_created']).dt.month == 12]\n",
    "# Count tweets for each user in df_nov\n",
    "pie_values = df_nov.user.value_counts()\n",
    "# Plot pie chart\n",
    "pie_chart = pie_values.plot(kind='pie', ylabel='', title='Tweets in December')"
   ]
  },
  {
   "cell_type": "markdown",
   "id": "058659bb",
   "metadata": {},
   "source": [
    "Elon Musk has the most tweets was clearly the most active in December, over 75% of the tweets in December from the accounts were from Elon. Kanye West has not tweeted in December at all."
   ]
  },
  {
   "cell_type": "markdown",
   "id": "5e95443e",
   "metadata": {},
   "source": [
    "###### Are there any favourite accounts among the influencers/accounts selected? (most likes, retweets, followers, mentions, active)\n",
    "<br/>\n",
    "Bill Gates has the least amount of likes, retweets and is not so active, and retweets more than posts tweets. Being the least successful account.\n",
    "<br/><br/>\n",
    "Kanye's tweets are the most successful when in getting the highest liked and retweeted post(s), although he is the least active. He also is not so mentioned, and has the least amount of followers.\n",
    "<br/><br/>\n",
    "Elon's tweets are the most successful when it comes to the most followers, the most mentions, and the most active account in December. And is successful in obtaining tweets that generate a high amount of likes and retweets."
   ]
  },
  {
   "cell_type": "markdown",
   "id": "3bc4f364",
   "metadata": {},
   "source": [
    "### 4. Provide the explanation of the process, the justification behind it, lessons learned and findings. "
   ]
  },
  {
   "cell_type": "markdown",
   "id": "dbef38b3",
   "metadata": {},
   "source": [
    "In order to begin the data analysis, the matplotlib library has been imported, it has already been done in task one. Also the pandas plot() function has helped when visualising the data. When comparing the number of followers, if a user tweets or retweets more, and the accounts that have been mentioned most have all been visualised using bar charts from the matplotlib library. The visualisation of the comparison of likes and retweets was created using pandas built-in function plot().bar(). The chart plotted the values from a pivot table that has the count for both the likes and retweets for all the three influencers. The comparison of the most active account was done using a pie chart from the pandas plot() function that extracted the number of tweets that have been tweeted per user in November. When comparing the top 10 liked and retweeted tweets, nlargest/nsmallest function by pandas has been used. Since this would be the best way to know which tweets specifically generated the highest likes/retweets. <br/><br/>\n",
    "\n",
    "The following table will show the summary of the findings obtained from the analysis. On each row, will represent the question and the users will be rated from 1-3 (1 being the most successful), except for the top 10 likes and retweets which will show how many likes or retweets are in the top 10 based on the user. <br/><br/>\n",
    "\n",
    "|                               |Elon Musk|Bill Gates|Kanye West|\n",
    "|:------------------------------|:--------|:---------|:---------|\n",
    "|**Followers**                  |1        |2         |3         |\n",
    "|**Retweets most**              |3        |1         |2         |\n",
    "|**Likes and Retweets**         |1        |3         |2         |\n",
    "|**Mentions**                   |1        |2         |3         |\n",
    "|**Most Active in November**    |1        |2         |3         |\n",
    "|**Tweets in top 10 likes**     |8 times  |0 times   |2 times   |\n",
    "|**Tweets in top 10 retweets**  |6 times  |0 times   |4 times   |\n",
    "\n",
    "<br/><br/>\n",
    "\n",
    "To summarize, Elon Musk is the most successful account overall. Kanye West is more successful than Bill Gates except for the amount of followers, mentions, and is slightly more active. But Kanye does have the most liked and retweeted tweet. Kanye also retweets less than Bill, making Kanye the second most successful account."
   ]
  },
  {
   "cell_type": "markdown",
   "id": "767ede0f",
   "metadata": {},
   "source": [
    "## Task 3 – Network analysis\n",
    "<hr style=\"border:2px solid black\"> </hr>\n",
    "\n",
    "*****The goal of this task is to create a network that represents the area of influence of the\n",
    "accounts/influencers selected. For this you need to consider the network as\n",
    "bidirectional, there are two ways to do it: you can extract the accounts that the\n",
    "influencer is following and/or create the links from the accounts that were retweeted.*****\n",
    "\n",
    "### Steps of the process:\n",
    "1. Explanation and justification of the data pre-processing implemented (if any).\n",
    "2. Provide a sample (max 10 records) of the edge list and the neighbour list of the network.\n",
    "3. Produce a visualisation of the network topology and discuss the output.\n",
    "4. Calculate statistics of the network, plot them where relevant, and discuss the results, explaining the meaning of any statistics you have calculated.\n",
    "* Statistics of the network such as\n",
    "    * Degree Distribution\n",
    "    * Cluster coefficient\n",
    "    * Betweenness Centrality\n",
    "    * Assortativity\n",
    "5. Conclusions and lessons learned."
   ]
  },
  {
   "cell_type": "markdown",
   "id": "04859138",
   "metadata": {},
   "source": [
    "### 1. Explanation and justification of the data pre-processing implemented (if any)"
   ]
  },
  {
   "cell_type": "code",
   "execution_count": 43,
   "id": "86eae376",
   "metadata": {},
   "outputs": [],
   "source": [
    "# Initialize the graph\n",
    "g = nx.Graph()\n",
    "\n",
    "# Add the main nodes\n",
    "g.add_node('elonmusk')\n",
    "g.add_node('billgates')\n",
    "g.add_node('kanyewest')"
   ]
  },
  {
   "cell_type": "code",
   "execution_count": 44,
   "id": "a8b84076",
   "metadata": {},
   "outputs": [],
   "source": [
    "\"\"\"\n",
    "Function to get list of the users that the account being analysed retweeted\n",
    "The input is the DataFrame of the separate user\n",
    "Function returns the users that are retweeted, to be able to add to the network.\n",
    "\"\"\"\n",
    "def retweet_nodes(df):\n",
    "    # Initalize list to extract the retweets\n",
    "    retweet_tweets = []\n",
    "    # Initalize list to extract the names\n",
    "    retweet_names = []\n",
    "    \n",
    "    # Append tweets that have an \"RT\" from the dataframe to retweet_tweets list\n",
    "    for i in df.tweet:\n",
    "        if \"RT\" in i:\n",
    "            retweet_tweets.append(i)\n",
    "    \n",
    "    # Slice the retweets in the retweets_tweets to extract only the name of the account that made the retweet\n",
    "    for x in retweet_tweets:\n",
    "        # Slice the tweets to return only username\n",
    "        # Starts from 4th index because the retweet text begins with RT @username \n",
    "        y = x[4:x.index(':')]\n",
    "        # Reduce errors, since usernames have no space\n",
    "        if ' ' not in y:\n",
    "            # Add to retweet_names set\n",
    "            retweet_names.append(y)\n",
    "    \n",
    "    # Returns the names of the accounts\n",
    "    return retweet_names   "
   ]
  },
  {
   "cell_type": "code",
   "execution_count": 45,
   "id": "1ab4540d",
   "metadata": {},
   "outputs": [],
   "source": [
    "# Function to extract the list of accounts a user is following, then returns a list of those accounts\n",
    "def following_nodes(user):    \n",
    "    following = []\n",
    "    for i in tweepy.Cursor(api.get_friends, screen_name=user).items():\n",
    "        following.append(i.screen_name)\n",
    "    return following  "
   ]
  },
  {
   "cell_type": "code",
   "execution_count": 46,
   "id": "c98f8d53",
   "metadata": {},
   "outputs": [],
   "source": [
    "# Adds the nodes and edges of the retweets/following names, based on the account being analysed\n",
    "def add_nodes_and_edges(n, user):    \n",
    "    # Add the nodes and edges for all the accounts\n",
    "    for i in n:    \n",
    "        g.add_node(i)\n",
    "        g.add_edge(i, user)         "
   ]
  },
  {
   "cell_type": "code",
   "execution_count": 47,
   "id": "1846fca2",
   "metadata": {},
   "outputs": [
    {
     "name": "stderr",
     "output_type": "stream",
     "text": [
      "Rate limit reached. Sleeping for: 891\n",
      "Rate limit reached. Sleeping for: 889\n"
     ]
    }
   ],
   "source": [
    "# Add nodes and edges of the retweeters\n",
    "add_nodes_and_edges(retweet_nodes(df_elon), 'elonmusk')\n",
    "add_nodes_and_edges(retweet_nodes(df_bill), 'billgates')\n",
    "add_nodes_and_edges(retweet_nodes(df_ye), 'kanyewest')   \n",
    "\n",
    "# Get the names of accounts the user is following\n",
    "f_elon = following_nodes('elonmusk')\n",
    "f_bill = following_nodes('billgates')\n",
    "f_ye = following_nodes('kanyewest')\n",
    "\n",
    "# Add nodes and edges of the accounts followed by the users\n",
    "add_nodes_and_edges(f_elon, 'elonmusk')\n",
    "add_nodes_and_edges(f_bill, 'billgates')\n",
    "add_nodes_and_edges(f_ye, 'kanyewest')"
   ]
  },
  {
   "cell_type": "markdown",
   "id": "35782684",
   "metadata": {},
   "source": [
    "###### Explanation and Justification"
   ]
  },
  {
   "cell_type": "markdown",
   "id": "cd444bcd",
   "metadata": {},
   "source": [
    "1. When cleaning the data in Task 1, the dataframe with the retweets is still saved. So this will make it easy to extract. A function was made to extract the accounts for each user, to be able to add them as nodes or edges to the network later on. \n",
    "2. A function was made to extract the account names a user is following. This uses the api's get_friends function and a cursor from tweepy to extract screen names of the items in the cursor, returning a list of the accounts names.\n",
    "3. A function was made to add the nodes and edges into the network. Basically this will be used so that directly the nodes and edges will be added with the input of either the function made to extract the retweets names or followings names. \n",
    "4. When calling the following_nodes() function, there will be a TooManyRequests error where there can only be a limited number of requests within a time interval, in this case 15 minutes. To get past through this, when obtaining the API Connection in Task 1, in the line where there is api = tweepy.API(auth, wait_on_rate_limit=True). When setting the wait_on_rate_limit to true, it will tell the api to automatically wait 15 min if too many requests have been called. This can be done instantly in another way by extracting the api.friends based on the user in a for loop, but this way has limitations by showing only maximum of 20 users. Therefore, this method was decided to be the best solution to extract all the users."
   ]
  },
  {
   "cell_type": "markdown",
   "id": "b2005cc9",
   "metadata": {},
   "source": [
    "### 2. Provide a sample (max 10 records) of the edge list and the neighbour list of the network."
   ]
  },
  {
   "cell_type": "markdown",
   "id": "897c7b20",
   "metadata": {},
   "source": [
    "###### Edges List"
   ]
  },
  {
   "cell_type": "code",
   "execution_count": 48,
   "id": "cc6d28f1",
   "metadata": {},
   "outputs": [
    {
     "data": {
      "text/plain": [
       "[('billgates', 'Microsoft'),\n",
       " ('billgates', 'sapinker'),\n",
       " ('billgates', 'EndPolioNow'),\n",
       " ('elonmusk', 'Rainmaker1973'),\n",
       " ('billgates', 'josh_jarrett'),\n",
       " ('kanyewest', 'SheckJesus'),\n",
       " ('billgates', 'NickKristof'),\n",
       " ('kanyewest', 'BustaRhymes'),\n",
       " ('kanyewest', 'astrxx_2'),\n",
       " ('billgates', 'KIPP')]"
      ]
     },
     "execution_count": 48,
     "metadata": {},
     "output_type": "execute_result"
    }
   ],
   "source": [
    "edges_sample = random.sample(g.edges(), 10)\n",
    "edges_sample"
   ]
  },
  {
   "cell_type": "markdown",
   "id": "ecc68ae8",
   "metadata": {},
   "source": [
    "###### Neighbors List"
   ]
  },
  {
   "cell_type": "code",
   "execution_count": 52,
   "id": "c245752b",
   "metadata": {},
   "outputs": [
    {
     "data": {
      "text/plain": [
       "{'jack': {'elonmusk', 'kanyewest'},\n",
       " 'shivon': {'elonmusk'},\n",
       " 'rogerfedererfdn': {'billgates'},\n",
       " 'overdramatique': {'kanyewest'},\n",
       " 'ENERGY': {'billgates'},\n",
       " 'B_hundred_Hyun': {'kanyewest'},\n",
       " 'mycoolnewshoes': {'kanyewest'},\n",
       " 'Bill_Gross': {'billgates'},\n",
       " 'dogecoin_devs': {'elonmusk'},\n",
       " 'TheAtlantic': {'billgates'}}"
      ]
     },
     "execution_count": 52,
     "metadata": {},
     "output_type": "execute_result"
    }
   ],
   "source": [
    "# Create an empty dictionary\n",
    "network = {}\n",
    "for (a,b) in g.edges():\n",
    "    #Check if key is in dictionary\n",
    "    if a in network:\n",
    "        network[a].add(b)\n",
    "    else:\n",
    "        network[a]={b}\n",
    "     #Check if key is in dictionary\n",
    "    if b in network:\n",
    "        network[b].add(a)\n",
    "    else:\n",
    "        network[b]={a}\n",
    "        \n",
    "# Extracts random 10 nodes with their neighbors        \n",
    "keys = random.sample(list(network), 10)\n",
    "values = [network[k] for k in keys]\n",
    "neighbors = dict(zip(keys, values))\n",
    "neighbors"
   ]
  },
  {
   "cell_type": "markdown",
   "id": "07cba9c1",
   "metadata": {},
   "source": [
    "### 3. Produce a visualisation of the network topology and discuss the output."
   ]
  },
  {
   "cell_type": "code",
   "execution_count": 53,
   "id": "6e726b86",
   "metadata": {},
   "outputs": [
    {
     "data": {
      "image/png": "[encoded data removed]",
      "text/plain": [
       "<Figure size 432x288 with 1 Axes>"
      ]
     },
     "metadata": {},
     "output_type": "display_data"
    }
   ],
   "source": [
    "# Visualise the graph\n",
    "G=g\n",
    "layout = nx.spring_layout(G)\n",
    "nx.draw(G,pos=layout,node_size=50,alpha=0.8)"
   ]
  },
  {
   "cell_type": "markdown",
   "id": "27a42e54",
   "metadata": {},
   "source": [
    "The output shows that all the influencers either follow or retweet from a few of the same people between each others. The 3 influencers do not follow or retweet the same people all together. Judging by the size of each of the main influences, there is not much connections between these influencers."
   ]
  },
  {
   "cell_type": "markdown",
   "id": "ffcf5cca",
   "metadata": {},
   "source": [
    "### 4. Calculate statistics of the network, plot them where relevant, and discuss the results, explaining the meaning of any statistics you have calculated."
   ]
  },
  {
   "cell_type": "markdown",
   "id": "102050cb",
   "metadata": {},
   "source": [
    "###### Degree Distribution"
   ]
  },
  {
   "cell_type": "code",
   "execution_count": 54,
   "id": "0073e43f",
   "metadata": {},
   "outputs": [
    {
     "data": {
      "image/png": "[encoded data removed]",
      "text/plain": [
       "<Figure size 432x288 with 1 Axes>"
      ]
     },
     "metadata": {
      "needs_background": "light"
     },
     "output_type": "display_data"
    }
   ],
   "source": [
    "# Calculation of degree distribution\n",
    "dd = nx.degree_histogram(g)\n",
    "\n",
    "# Show nodes without degree of 0\n",
    "ddist = dd[1:] # Skip 0 degree nodes\n",
    "plt.loglog(range(1,len(ddist)+1),ddist,'x')\n",
    "plt.xlabel(\"Degree\")\n",
    "plt.ylabel(\"Frequency\") \n",
    "plt.show()"
   ]
  },
  {
   "cell_type": "markdown",
   "id": "7e175b36",
   "metadata": {},
   "source": [
    "The degree distribution of this network shows us that the high majority of the nodes do not have edges (other than their original edge), which would mean those nodes do not get followed and/or retweets from more than one influencer. Throughout the rest of the network, rarely the rest of the nodes are followed and/or retweeted from more than one influencer."
   ]
  },
  {
   "cell_type": "markdown",
   "id": "e771f561",
   "metadata": {},
   "source": [
    "###### Cluster coefficient"
   ]
  },
  {
   "cell_type": "code",
   "execution_count": 55,
   "id": "281db13f",
   "metadata": {},
   "outputs": [
    {
     "data": {
      "image/png": "[encoded data removed]",
      "text/plain": [
       "<Figure size 432x288 with 1 Axes>"
      ]
     },
     "metadata": {
      "needs_background": "light"
     },
     "output_type": "display_data"
    }
   ],
   "source": [
    "# Calculating \n",
    "cc = nx.clustering(g)\n",
    "\n",
    "# Plotting including coeff of 0\n",
    "plt.hist(list(cc.values()),bins=10)\n",
    "plt.yscale(\"log\")\n",
    "plt.ylabel(\"Frequency\")\n",
    "plt.xlabel(\"Clustering coeff.\")\n",
    "plt.show()"
   ]
  },
  {
   "cell_type": "markdown",
   "id": "fe218610",
   "metadata": {},
   "source": [
    "The chart represents to us the clustering coeffiecient of the nodes, which will basically present which nodes are also part of neighbor nodes. It is clear that there are rarely nodes that have neighbor nodes."
   ]
  },
  {
   "cell_type": "markdown",
   "id": "7cf5965b",
   "metadata": {},
   "source": [
    "###### Betweenness Centrality"
   ]
  },
  {
   "cell_type": "code",
   "execution_count": 56,
   "id": "98bbc4b7",
   "metadata": {},
   "outputs": [
    {
     "data": {
      "image/png": "[encoded data removed]",
      "text/plain": [
       "<Figure size 432x288 with 1 Axes>"
      ]
     },
     "metadata": {
      "needs_background": "light"
     },
     "output_type": "display_data"
    }
   ],
   "source": [
    "bc = nx.betweenness_centrality(g)\n",
    "x = list(bc.keys())\n",
    "y = list(bc.values())\n",
    "\n",
    "plt.scatter(x, y)\n",
    "plt.xticks('')\n",
    "plt.xlabel('User')\n",
    "plt.ylabel('Betweeness Centrality')\n",
    "plt.show()"
   ]
  },
  {
   "cell_type": "markdown",
   "id": "37cd4c4d",
   "metadata": {},
   "source": [
    "This chart will represent to us the level of importance of the nodes in the network in terms of connecting other influencers region. As shown, the high majority of these nodes are 0. There are 3 nodes by the left side of the chart showing high betwenesses centrality, these are highly likely to be the main influencers. There are 7 other nodes that have importance when connecting the influencers region in the network."
   ]
  },
  {
   "cell_type": "code",
   "execution_count": 57,
   "id": "54e3f7d8",
   "metadata": {},
   "outputs": [
    {
     "data": {
      "text/plain": [
       "{'elonmusk': 0.2855416494679444,\n",
       " 'billgates': 0.7623548492612986,\n",
       " 'kanyewest': 0.5406204650534898,\n",
       " 'MKBHD': 0.05311485113044251,\n",
       " 'Malala': 0.05311485113044251,\n",
       " 'khanacademy': 0.05311485113044251,\n",
       " 'jimmyfallon': 0.08293662692138931,\n",
       " 'BillClinton': 0.08293662692138931,\n",
       " 'LeoDiCaprio': 0.08293662692138931,\n",
       " 'BarackObama': 0.08293662692138931}"
      ]
     },
     "execution_count": 57,
     "metadata": {},
     "output_type": "execute_result"
    }
   ],
   "source": [
    "# Show nodes with betweeness centrality thats not 0\n",
    "bc_nodes = {}\n",
    "for i in bc:\n",
    "    if bc[i] != 0:\n",
    "        bc_nodes[i] = bc[i]\n",
    "bc_nodes     "
   ]
  },
  {
   "cell_type": "markdown",
   "id": "a03fc6a2",
   "metadata": {},
   "source": [
    "This dictionary shows the nodes that do not have a betweeness centrality of 0, with their value. Meaning they are either followed and/or retweeted by 2 of the 3 influencers. "
   ]
  },
  {
   "cell_type": "markdown",
   "id": "c9ebeb70",
   "metadata": {},
   "source": [
    "###### Assortativity"
   ]
  },
  {
   "cell_type": "code",
   "execution_count": 58,
   "id": "6451e8fe",
   "metadata": {},
   "outputs": [
    {
     "data": {
      "text/plain": [
       "-0.8141727131388174"
      ]
     },
     "execution_count": 58,
     "metadata": {},
     "output_type": "execute_result"
    }
   ],
   "source": [
    "nx.degree_assortativity_coefficient(g)"
   ]
  },
  {
   "cell_type": "markdown",
   "id": "669042ec",
   "metadata": {},
   "source": [
    "The assortavity coefficient shows that the nodes in the network has a very weak tendency to interact with other similar nodes."
   ]
  },
  {
   "cell_type": "markdown",
   "id": "b304b388",
   "metadata": {},
   "source": [
    "### 5. Conclusions and lessons learned."
   ]
  },
  {
   "cell_type": "markdown",
   "id": "996be68a",
   "metadata": {},
   "source": [
    "In this process, a network topology between the influencers, the accounts they follow and the accounts that the influencers between from were visualised and analysed. These accounts are extracted as shown in step 1, and they are added as nodes to the graph and the edges of those nodes between the accounts and the influencers will be added. Then the network topology is visualised with the help of the NetworkX library. Visualisations of the network and statistical analysis of the network shows that there are only a few connections between the influencers, and that all the three influencers do not share a common connection. To conclude, there is not much connection between the influencers."
   ]
  }
 ],
 "metadata": {
  "kernelspec": {
   "display_name": "Python 3 (ipykernel)",
   "language": "python",
   "name": "python3"
  },
  "language_info": {
   "codemirror_mode": {
    "name": "ipython",
    "version": 3
   },
   "file_extension": ".py",
   "mimetype": "text/x-python",
   "name": "python",
   "nbconvert_exporter": "python",
   "pygments_lexer": "ipython3",
   "version": "3.8.8"
  }
 },
 "nbformat": 4,
 "nbformat_minor": 5
}
